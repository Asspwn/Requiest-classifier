{
 "cells": [
  {
   "cell_type": "code",
   "execution_count": 16,
   "id": "1534f863",
   "metadata": {},
   "outputs": [],
   "source": [
    "import numpy as np\n",
    "from flask import Flask, request, jsonify, render_template\n",
    "import pickle"
   ]
  },
  {
   "cell_type": "code",
   "execution_count": 17,
   "id": "6565805d",
   "metadata": {},
   "outputs": [],
   "source": [
    "def remove(text):\n",
    "    return text[:]\n",
    "\n",
    "def r_dup(sent):\n",
    "    words = sent.split() \n",
    "    res = [] \n",
    "    for word in words: \n",
    "        # If condition is used to store unique string  \n",
    "        # in another list 'k'  \n",
    "        if (sent.count(word)>1 and (word not in res)or sent.count(word)==1): \n",
    "            res.append(word) \n",
    "    return ' '.join(res)\n",
    "\n",
    "def text_process(mess):\n",
    "    \n",
    "    mess = mess.replace('/', ' ')\n",
    "    mess = mess.replace('(',' ')\n",
    "    mess = mess.replace(')',' ')\n",
    "    mess = mess.replace('-',' ')\n",
    "    \n",
    "    nopunc = [char for char in mess if char not in string.punctuation]\n",
    "    nopunc = ''.join(nopunc)\n",
    "    \n",
    "    nopunc = [word for word in nopunc.split() if word.lower() not in stopwords.words('russian')]\n",
    "    return ' '.join(nopunc)\n",
    "\n",
    "def lemmatize(text):\n",
    "    res = list()\n",
    "    words = text.split() # разбиваем текст на слова\n",
    "    for word in words:\n",
    "        p = morph.parse(word)[0]\n",
    "        res.append(p.normal_form)\n",
    "        \n",
    "    #removing numbers    \n",
    "    res = [''.join(x for x in i if x.isalpha()) for i in res] \n",
    "    while '' in res:\n",
    "        \n",
    "        res.remove('')     \n",
    "    \n",
    "    return ' '.join(res)\n",
    "\n",
    "def pos_tag(text):\n",
    "    words = text.split()\n",
    "    res = list()\n",
    "    for word in words:\n",
    "        p = morph.parse(word)[0]\n",
    "        res.append(p.tag.POS)\n",
    "    return res      "
   ]
  },
  {
   "cell_type": "code",
   "execution_count": 18,
   "id": "192ea435",
   "metadata": {},
   "outputs": [
    {
     "name": "stdout",
     "output_type": "stream",
     "text": [
      " * Serving Flask app \"__main__\" (lazy loading)\n",
      " * Environment: production\n",
      "\u001b[31m   WARNING: This is a development server. Do not use it in a production deployment.\u001b[0m\n",
      "\u001b[2m   Use a production WSGI server instead.\u001b[0m\n",
      " * Debug mode: on\n"
     ]
    },
    {
     "name": "stderr",
     "output_type": "stream",
     "text": [
      " * Restarting with watchdog (windowsapi)\n"
     ]
    },
    {
     "ename": "SystemExit",
     "evalue": "1",
     "output_type": "error",
     "traceback": [
      "An exception has occurred, use %tb to see the full traceback.\n",
      "\u001b[1;31mSystemExit\u001b[0m\u001b[1;31m:\u001b[0m 1\n"
     ]
    }
   ],
   "source": [
    "app = Flask(__name__)\n",
    "model = pickle.load(open('model_LR.pkl', 'rb'))\n",
    "\n",
    "@app.route('/')\n",
    "def home():\n",
    "    return render_template('index.html')\n",
    "\n",
    "@app.route('/predict',methods=['POST'])\n",
    "def predict():\n",
    "    '''\n",
    "    For rendering results on HTML GUI\n",
    "    '''\n",
    "    int_features = request.form.values()\n",
    "    final_features = int_features\n",
    "    prediction = model.predict(final_features)\n",
    "\n",
    "    output = round(prediction[0], 2)\n",
    "\n",
    "    return render_template('index.html', prediction_text='Prediction {}'.format(output))\n",
    "\n",
    "@app.route('/predict_api',methods=['POST'])\n",
    "def predict_api():\n",
    "    '''\n",
    "    For direct API calls trought request\n",
    "    '''\n",
    "    res = request.get_json(force=True)\n",
    "    data = json.loads(res.text)\n",
    "    data = json.dumps(data)\n",
    "    data = data.apply(r_dup)\n",
    "    data = data.apply(text_process)\n",
    "    data = data.apply(lemmatize)\n",
    "    prediction = model.predict_proba(data)\n",
    "\n",
    "    output = prediction[0]\n",
    "    return jsonify(output)\n",
    "\n",
    "if __name__ == \"__main__\":\n",
    "    app.run(debug=True)"
   ]
  },
  {
   "cell_type": "code",
   "execution_count": null,
   "id": "1688456e",
   "metadata": {},
   "outputs": [],
   "source": []
  }
 ],
 "metadata": {
  "kernelspec": {
   "display_name": "Python 3 (ipykernel)",
   "language": "python",
   "name": "python3"
  },
  "language_info": {
   "codemirror_mode": {
    "name": "ipython",
    "version": 3
   },
   "file_extension": ".py",
   "mimetype": "text/x-python",
   "name": "python",
   "nbconvert_exporter": "python",
   "pygments_lexer": "ipython3",
   "version": "3.9.7"
  }
 },
 "nbformat": 4,
 "nbformat_minor": 5
}
